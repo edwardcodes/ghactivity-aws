{
 "cells": [
  {
   "cell_type": "code",
   "execution_count": 1,
   "metadata": {},
   "outputs": [],
   "source": [
    "import boto3"
   ]
  },
  {
   "cell_type": "code",
   "execution_count": 2,
   "metadata": {},
   "outputs": [
    {
     "data": {
      "text/plain": [
       "'gh-activity'"
      ]
     },
     "execution_count": 2,
     "metadata": {},
     "output_type": "execute_result"
    }
   ],
   "source": [
    "import os\n",
    "os.environ.setdefault('AWS_PROFILE', 'gh-activity')"
   ]
  },
  {
   "cell_type": "code",
   "execution_count": 3,
   "metadata": {},
   "outputs": [],
   "source": [
    "dynamo_client = boto3.client('dynamodb')"
   ]
  },
  {
   "cell_type": "code",
   "execution_count": 4,
   "metadata": {},
   "outputs": [
    {
     "data": {
      "text/plain": [
       "botocore.client.DynamoDB"
      ]
     },
     "execution_count": 4,
     "metadata": {},
     "output_type": "execute_result"
    }
   ],
   "source": [
    "type(dynamo_client)"
   ]
  },
  {
   "cell_type": "code",
   "execution_count": 5,
   "metadata": {},
   "outputs": [
    {
     "data": {
      "text/plain": [
       "{'TableNames': [],\n",
       " 'ResponseMetadata': {'RequestId': '8602HRC0I67MJ6BVJLOMFJE9LVVV4KQNSO5AEMVJF66Q9ASUAAJG',\n",
       "  'HTTPStatusCode': 200,\n",
       "  'HTTPHeaders': {'server': 'Server',\n",
       "   'date': 'Tue, 15 Nov 2022 10:03:13 GMT',\n",
       "   'content-type': 'application/x-amz-json-1.0',\n",
       "   'content-length': '17',\n",
       "   'connection': 'keep-alive',\n",
       "   'x-amzn-requestid': '8602HRC0I67MJ6BVJLOMFJE9LVVV4KQNSO5AEMVJF66Q9ASUAAJG',\n",
       "   'x-amz-crc32': '1315925753'},\n",
       "  'RetryAttempts': 0}}"
      ]
     },
     "execution_count": 5,
     "metadata": {},
     "output_type": "execute_result"
    }
   ],
   "source": [
    "dynamo_client.list_tables() # list all tables"
   ]
  },
  {
   "cell_type": "code",
   "execution_count": 6,
   "metadata": {},
   "outputs": [],
   "source": [
    "tables = dynamo_client.list_tables()['TableNames']"
   ]
  },
  {
   "cell_type": "code",
   "execution_count": 8,
   "metadata": {},
   "outputs": [
    {
     "data": {
      "text/plain": [
       "False"
      ]
     },
     "execution_count": 8,
     "metadata": {},
     "output_type": "execute_result"
    }
   ],
   "source": [
    "'jobs' in tables # check if a tablename('jobs) exists"
   ]
  },
  {
   "cell_type": "code",
   "execution_count": 9,
   "metadata": {},
   "outputs": [
    {
     "name": "stdout",
     "output_type": "stream",
     "text": [
      "{'TableDescription': {'AttributeDefinitions': [{'AttributeName': 'job_id', 'AttributeType': 'S'}], 'TableName': 'jobs', 'KeySchema': [{'AttributeName': 'job_id', 'KeyType': 'HASH'}], 'TableStatus': 'CREATING', 'CreationDateTime': datetime.datetime(2022, 11, 15, 16, 15, 46, 366000, tzinfo=tzlocal()), 'ProvisionedThroughput': {'NumberOfDecreasesToday': 0, 'ReadCapacityUnits': 0, 'WriteCapacityUnits': 0}, 'TableSizeBytes': 0, 'ItemCount': 0, 'TableArn': 'arn:aws:dynamodb:ap-south-1:616740282806:table/jobs', 'TableId': '8252fe56-2ad3-40b4-a904-f00a56287c78', 'BillingModeSummary': {'BillingMode': 'PAY_PER_REQUEST'}}, 'ResponseMetadata': {'RequestId': 'V4GUD2PUUVN5D71L5UFH1R6JPJVV4KQNSO5AEMVJF66Q9ASUAAJG', 'HTTPStatusCode': 200, 'HTTPHeaders': {'server': 'Server', 'date': 'Tue, 15 Nov 2022 10:45:46 GMT', 'content-type': 'application/x-amz-json-1.0', 'content-length': '603', 'connection': 'keep-alive', 'x-amzn-requestid': 'V4GUD2PUUVN5D71L5UFH1R6JPJVV4KQNSO5AEMVJF66Q9ASUAAJG', 'x-amz-crc32': '2640045105'}, 'RetryAttempts': 0}}\n"
     ]
    }
   ],
   "source": [
    "if 'jobs' not in tables:\n",
    "    response = dynamo_client.create_table(\n",
    "        AttributeDefinitions=[\n",
    "            {\n",
    "                'AttributeName': 'job_id',\n",
    "                'AttributeType': 'S'\n",
    "            }\n",
    "        ],\n",
    "        TableName='jobs',\n",
    "        KeySchema=[\n",
    "            {\n",
    "              'AttributeName': 'job_id',\n",
    "              'KeyType': 'HASH'\n",
    "            },\n",
    "        ],\n",
    "        BillingMode='PAY_PER_REQUEST'\n",
    "    )\n",
    "\n",
    "    print(response)"
   ]
  },
  {
   "cell_type": "code",
   "execution_count": 10,
   "metadata": {},
   "outputs": [
    {
     "data": {
      "text/plain": [
       "{'TableNames': ['jobs'],\n",
       " 'ResponseMetadata': {'RequestId': 'GTTCB4SGJH472P1RVN3O9IK8FNVV4KQNSO5AEMVJF66Q9ASUAAJG',\n",
       "  'HTTPStatusCode': 200,\n",
       "  'HTTPHeaders': {'server': 'Server',\n",
       "   'date': 'Tue, 15 Nov 2022 10:45:51 GMT',\n",
       "   'content-type': 'application/x-amz-json-1.0',\n",
       "   'content-length': '23',\n",
       "   'connection': 'keep-alive',\n",
       "   'x-amzn-requestid': 'GTTCB4SGJH472P1RVN3O9IK8FNVV4KQNSO5AEMVJF66Q9ASUAAJG',\n",
       "   'x-amz-crc32': '312962171'},\n",
       "  'RetryAttempts': 0}}"
      ]
     },
     "execution_count": 10,
     "metadata": {},
     "output_type": "execute_result"
    }
   ],
   "source": [
    "dynamo_client.list_tables()"
   ]
  },
  {
   "cell_type": "code",
   "execution_count": 11,
   "metadata": {},
   "outputs": [
    {
     "data": {
      "text/plain": [
       "{'Table': {'AttributeDefinitions': [{'AttributeName': 'job_id',\n",
       "    'AttributeType': 'S'}],\n",
       "  'TableName': 'jobs',\n",
       "  'KeySchema': [{'AttributeName': 'job_id', 'KeyType': 'HASH'}],\n",
       "  'TableStatus': 'ACTIVE',\n",
       "  'CreationDateTime': datetime.datetime(2022, 11, 15, 16, 15, 46, 366000, tzinfo=tzlocal()),\n",
       "  'ProvisionedThroughput': {'NumberOfDecreasesToday': 0,\n",
       "   'ReadCapacityUnits': 0,\n",
       "   'WriteCapacityUnits': 0},\n",
       "  'TableSizeBytes': 0,\n",
       "  'ItemCount': 0,\n",
       "  'TableArn': 'arn:aws:dynamodb:ap-south-1:616740282806:table/jobs',\n",
       "  'TableId': '8252fe56-2ad3-40b4-a904-f00a56287c78',\n",
       "  'BillingModeSummary': {'BillingMode': 'PAY_PER_REQUEST',\n",
       "   'LastUpdateToPayPerRequestDateTime': datetime.datetime(2022, 11, 15, 16, 15, 46, 366000, tzinfo=tzlocal())}},\n",
       " 'ResponseMetadata': {'RequestId': '72DKM1EL55TBGOR347Q4Q1S78RVV4KQNSO5AEMVJF66Q9ASUAAJG',\n",
       "  'HTTPStatusCode': 200,\n",
       "  'HTTPHeaders': {'server': 'Server',\n",
       "   'date': 'Tue, 15 Nov 2022 10:46:51 GMT',\n",
       "   'content-type': 'application/x-amz-json-1.0',\n",
       "   'content-length': '696',\n",
       "   'connection': 'keep-alive',\n",
       "   'x-amzn-requestid': '72DKM1EL55TBGOR347Q4Q1S78RVV4KQNSO5AEMVJF66Q9ASUAAJG',\n",
       "   'x-amz-crc32': '140843617'},\n",
       "  'RetryAttempts': 0}}"
      ]
     },
     "execution_count": 11,
     "metadata": {},
     "output_type": "execute_result"
    }
   ],
   "source": [
    "dynamo_client.describe_table(TableName='jobs')"
   ]
  },
  {
   "cell_type": "markdown",
   "metadata": {},
   "source": [
    "**Inserting items into the database**"
   ]
  },
  {
   "cell_type": "code",
   "execution_count": 12,
   "metadata": {},
   "outputs": [],
   "source": [
    "dynamodb_resource = boto3.resource('dynamodb')"
   ]
  },
  {
   "cell_type": "code",
   "execution_count": 13,
   "metadata": {},
   "outputs": [
    {
     "data": {
      "text/plain": [
       "boto3.resources.factory.dynamodb.ServiceResource"
      ]
     },
     "execution_count": 13,
     "metadata": {},
     "output_type": "execute_result"
    }
   ],
   "source": [
    "type(dynamodb_resource)"
   ]
  },
  {
   "cell_type": "code",
   "execution_count": 14,
   "metadata": {},
   "outputs": [],
   "source": [
    "job_details_table = dynamodb_resource.Table('jobs')"
   ]
  },
  {
   "cell_type": "code",
   "execution_count": 15,
   "metadata": {},
   "outputs": [
    {
     "data": {
      "text/plain": [
       "boto3.resources.factory.dynamodb.Table"
      ]
     },
     "execution_count": 15,
     "metadata": {},
     "output_type": "execute_result"
    }
   ],
   "source": [
    "type(job_details_table)"
   ]
  },
  {
   "cell_type": "code",
   "execution_count": 16,
   "metadata": {},
   "outputs": [],
   "source": [
    "job_details = {\n",
    "    'job_id': 'ghactivity_ingest',\n",
    "    'job_description': 'Ingest ghactivity data to s3',\n",
    "    'is_active': 'Y'\n",
    "}"
   ]
  },
  {
   "cell_type": "code",
   "execution_count": 17,
   "metadata": {},
   "outputs": [
    {
     "data": {
      "text/plain": [
       "{'ResponseMetadata': {'RequestId': 'JV1B5M4S77VDMJRN88Q4CAO37BVV4KQNSO5AEMVJF66Q9ASUAAJG',\n",
       "  'HTTPStatusCode': 200,\n",
       "  'HTTPHeaders': {'server': 'Server',\n",
       "   'date': 'Tue, 15 Nov 2022 10:50:25 GMT',\n",
       "   'content-type': 'application/x-amz-json-1.0',\n",
       "   'content-length': '2',\n",
       "   'connection': 'keep-alive',\n",
       "   'x-amzn-requestid': 'JV1B5M4S77VDMJRN88Q4CAO37BVV4KQNSO5AEMVJF66Q9ASUAAJG',\n",
       "   'x-amz-crc32': '2745614147'},\n",
       "  'RetryAttempts': 0}}"
      ]
     },
     "execution_count": 17,
     "metadata": {},
     "output_type": "execute_result"
    }
   ],
   "source": [
    "job_details_table.put_item(\n",
    "    Item=job_details\n",
    ")"
   ]
  },
  {
   "cell_type": "code",
   "execution_count": 18,
   "metadata": {},
   "outputs": [
    {
     "data": {
      "text/plain": [
       "{'Items': [{'job_description': 'Ingest ghactivity data to s3',\n",
       "   'is_active': 'Y',\n",
       "   'job_id': 'ghactivity_ingest'}],\n",
       " 'Count': 1,\n",
       " 'ScannedCount': 1,\n",
       " 'ResponseMetadata': {'RequestId': '9JPR4N48OFPQEL7M9NVOG4TA17VV4KQNSO5AEMVJF66Q9ASUAAJG',\n",
       "  'HTTPStatusCode': 200,\n",
       "  'HTTPHeaders': {'server': 'Server',\n",
       "   'date': 'Tue, 15 Nov 2022 10:51:24 GMT',\n",
       "   'content-type': 'application/x-amz-json-1.0',\n",
       "   'content-length': '152',\n",
       "   'connection': 'keep-alive',\n",
       "   'x-amzn-requestid': '9JPR4N48OFPQEL7M9NVOG4TA17VV4KQNSO5AEMVJF66Q9ASUAAJG',\n",
       "   'x-amz-crc32': '988540982'},\n",
       "  'RetryAttempts': 0}}"
      ]
     },
     "execution_count": 18,
     "metadata": {},
     "output_type": "execute_result"
    }
   ],
   "source": [
    "job_details_table.scan() # returns all the rows in the table"
   ]
  },
  {
   "cell_type": "code",
   "execution_count": 19,
   "metadata": {},
   "outputs": [
    {
     "data": {
      "text/plain": [
       "{'Item': {'job_description': 'Ingest ghactivity data to s3',\n",
       "  'is_active': 'Y',\n",
       "  'job_id': 'ghactivity_ingest'},\n",
       " 'ResponseMetadata': {'RequestId': 'LHLDUEV7OS76UCHNUMC8VV1D9FVV4KQNSO5AEMVJF66Q9ASUAAJG',\n",
       "  'HTTPStatusCode': 200,\n",
       "  'HTTPHeaders': {'server': 'Server',\n",
       "   'date': 'Tue, 15 Nov 2022 10:52:40 GMT',\n",
       "   'content-type': 'application/x-amz-json-1.0',\n",
       "   'content-length': '122',\n",
       "   'connection': 'keep-alive',\n",
       "   'x-amzn-requestid': 'LHLDUEV7OS76UCHNUMC8VV1D9FVV4KQNSO5AEMVJF66Q9ASUAAJG',\n",
       "   'x-amz-crc32': '1545965685'},\n",
       "  'RetryAttempts': 0}}"
      ]
     },
     "execution_count": 19,
     "metadata": {},
     "output_type": "execute_result"
    }
   ],
   "source": [
    "job_details_table.get_item(Key={'job_id': 'ghactivity_ingest'}) \n",
    "# get_items returns only one row based on the key passed"
   ]
  },
  {
   "cell_type": "code",
   "execution_count": 20,
   "metadata": {},
   "outputs": [],
   "source": [
    "job_details = {\n",
    "    'job_id': 'ghactivity_ingest',\n",
    "    'job_description': 'Ingest ghactivity data to s3',\n",
    "    'is_active': 'Y',\n",
    "    'baseline_days': 3\n",
    "}"
   ]
  },
  {
   "cell_type": "code",
   "execution_count": 21,
   "metadata": {},
   "outputs": [
    {
     "data": {
      "text/plain": [
       "{'ResponseMetadata': {'RequestId': 'JOMNU2L304E2LF5H78DQQ50PQNVV4KQNSO5AEMVJF66Q9ASUAAJG',\n",
       "  'HTTPStatusCode': 200,\n",
       "  'HTTPHeaders': {'server': 'Server',\n",
       "   'date': 'Tue, 15 Nov 2022 10:54:21 GMT',\n",
       "   'content-type': 'application/x-amz-json-1.0',\n",
       "   'content-length': '2',\n",
       "   'connection': 'keep-alive',\n",
       "   'x-amzn-requestid': 'JOMNU2L304E2LF5H78DQQ50PQNVV4KQNSO5AEMVJF66Q9ASUAAJG',\n",
       "   'x-amz-crc32': '2745614147'},\n",
       "  'RetryAttempts': 0}}"
      ]
     },
     "execution_count": 21,
     "metadata": {},
     "output_type": "execute_result"
    }
   ],
   "source": [
    "job_details_table.put_item(\n",
    "    Item=job_details\n",
    ")"
   ]
  },
  {
   "cell_type": "code",
   "execution_count": 22,
   "metadata": {},
   "outputs": [
    {
     "data": {
      "text/plain": [
       "{'Item': {'job_description': 'Ingest ghactivity data to s3',\n",
       "  'is_active': 'Y',\n",
       "  'job_id': 'ghactivity_ingest',\n",
       "  'baseline_days': Decimal('3')},\n",
       " 'ResponseMetadata': {'RequestId': 'G6THGIC53HH7LTPKI6663LJI03VV4KQNSO5AEMVJF66Q9ASUAAJG',\n",
       "  'HTTPStatusCode': 200,\n",
       "  'HTTPHeaders': {'server': 'Server',\n",
       "   'date': 'Tue, 15 Nov 2022 10:55:24 GMT',\n",
       "   'content-type': 'application/x-amz-json-1.0',\n",
       "   'content-length': '148',\n",
       "   'connection': 'keep-alive',\n",
       "   'x-amzn-requestid': 'G6THGIC53HH7LTPKI6663LJI03VV4KQNSO5AEMVJF66Q9ASUAAJG',\n",
       "   'x-amz-crc32': '908240578'},\n",
       "  'RetryAttempts': 0}}"
      ]
     },
     "execution_count": 22,
     "metadata": {},
     "output_type": "execute_result"
    }
   ],
   "source": [
    "job_details_table.get_item(Key={'job_id': 'ghactivity_ingest'})"
   ]
  },
  {
   "cell_type": "code",
   "execution_count": null,
   "metadata": {},
   "outputs": [],
   "source": []
  }
 ],
 "metadata": {
  "kernelspec": {
   "display_name": "Python 3.9.12 ('udemy-lambda': venv)",
   "language": "python",
   "name": "python3"
  },
  "language_info": {
   "codemirror_mode": {
    "name": "ipython",
    "version": 3
   },
   "file_extension": ".py",
   "mimetype": "text/x-python",
   "name": "python",
   "nbconvert_exporter": "python",
   "pygments_lexer": "ipython3",
   "version": "3.9.12"
  },
  "orig_nbformat": 4,
  "vscode": {
   "interpreter": {
    "hash": "041cfd6db7c83778a4ca3ba8bf559452d50a9d9ed92ce0fceb982edeba072cb3"
   }
  }
 },
 "nbformat": 4,
 "nbformat_minor": 2
}
