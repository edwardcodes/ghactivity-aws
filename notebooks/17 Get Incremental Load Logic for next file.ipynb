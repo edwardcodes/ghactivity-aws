{
 "cells": [
  {
   "cell_type": "code",
   "execution_count": 1,
   "metadata": {},
   "outputs": [],
   "source": [
    "import boto3"
   ]
  },
  {
   "cell_type": "code",
   "execution_count": 2,
   "metadata": {},
   "outputs": [
    {
     "data": {
      "text/plain": [
       "'gh-activity'"
      ]
     },
     "execution_count": 2,
     "metadata": {},
     "output_type": "execute_result"
    }
   ],
   "source": [
    "import os\n",
    "os.environ.setdefault('AWS_PROFILE', 'gh-activity')"
   ]
  },
  {
   "cell_type": "code",
   "execution_count": 3,
   "metadata": {},
   "outputs": [],
   "source": [
    "def get_job_details(job_name):\n",
    "    dynamodb = boto3.resource('dynamodb')\n",
    "    table = dynamodb.Table('jobs')\n",
    "    job_details = table.get_item(Key={'job_id': job_name})['Item']\n",
    "    return job_details"
   ]
  },
  {
   "cell_type": "code",
   "execution_count": 4,
   "metadata": {},
   "outputs": [
    {
     "data": {
      "text/plain": [
       "{'job_description': 'Ingest ghactivity data to s3',\n",
       " 'is_active': 'Y',\n",
       " 'job_id': 'ghactivity_ingest',\n",
       " 'baseline_days': Decimal('3')}"
      ]
     },
     "execution_count": 4,
     "metadata": {},
     "output_type": "execute_result"
    }
   ],
   "source": [
    "job_details = get_job_details('ghactivity_ingest')\n",
    "job_details"
   ]
  },
  {
   "cell_type": "code",
   "execution_count": 5,
   "metadata": {},
   "outputs": [
    {
     "data": {
      "text/plain": [
       "Decimal('3')"
      ]
     },
     "execution_count": 5,
     "metadata": {},
     "output_type": "execute_result"
    }
   ],
   "source": [
    "# check particular entry from the table\n",
    "baseline_days = job_details['baseline_days']\n",
    "baseline_days"
   ]
  },
  {
   "cell_type": "code",
   "execution_count": 6,
   "metadata": {},
   "outputs": [],
   "source": [
    "from datetime import datetime as dt\n",
    "from datetime import timedelta as td"
   ]
  },
  {
   "cell_type": "code",
   "execution_count": 7,
   "metadata": {},
   "outputs": [],
   "source": []
  },
  {
   "cell_type": "code",
   "execution_count": 7,
   "metadata": {},
   "outputs": [
    {
     "data": {
      "text/plain": [
       "datetime.date(2022, 11, 14)"
      ]
     },
     "execution_count": 7,
     "metadata": {},
     "output_type": "execute_result"
    }
   ],
   "source": [
    "start_time = dt.now().date() - td(days=int(baseline_days))\n",
    "start_time"
   ]
  },
  {
   "cell_type": "code",
   "execution_count": 8,
   "metadata": {},
   "outputs": [],
   "source": [
    "# creating file name\n",
    "start_file = f\"{dt.strftime(start_time, '%Y-%m-%d')}-0.json.gz\""
   ]
  },
  {
   "cell_type": "code",
   "execution_count": 9,
   "metadata": {},
   "outputs": [
    {
     "data": {
      "text/plain": [
       "'2022-11-14-0.json.gz'"
      ]
     },
     "execution_count": 9,
     "metadata": {},
     "output_type": "execute_result"
    }
   ],
   "source": [
    "start_file"
   ]
  },
  {
   "cell_type": "code",
   "execution_count": 10,
   "metadata": {},
   "outputs": [],
   "source": [
    "# updating new entry with existing details\n",
    "job_details = {\n",
    "    'job_id': 'ghactivity_ingest',\n",
    "    'job_description': 'Ingest ghactivity data to s3',\n",
    "    'is_active': 'Y',\n",
    "    'baseline_days': 3,\n",
    "    'job_run_bookmark_details': {\n",
    "        'last_run_file_name': start_file,\n",
    "    }\n",
    "}"
   ]
  },
  {
   "cell_type": "code",
   "execution_count": 11,
   "metadata": {},
   "outputs": [],
   "source": [
    "# connecting to aws service\n",
    "dynamodb = boto3.resource('dynamodb')"
   ]
  },
  {
   "cell_type": "code",
   "execution_count": 12,
   "metadata": {},
   "outputs": [],
   "source": [
    "# connect to particular table\n",
    "table = dynamodb.Table('jobs')"
   ]
  },
  {
   "cell_type": "code",
   "execution_count": 13,
   "metadata": {},
   "outputs": [
    {
     "data": {
      "text/plain": [
       "{'ResponseMetadata': {'RequestId': 'RV6BQDF76O8S74K4KJIOVNGIM3VV4KQNSO5AEMVJF66Q9ASUAAJG',\n",
       "  'HTTPStatusCode': 200,\n",
       "  'HTTPHeaders': {'server': 'Server',\n",
       "   'date': 'Thu, 17 Nov 2022 05:53:13 GMT',\n",
       "   'content-type': 'application/x-amz-json-1.0',\n",
       "   'content-length': '2',\n",
       "   'connection': 'keep-alive',\n",
       "   'x-amzn-requestid': 'RV6BQDF76O8S74K4KJIOVNGIM3VV4KQNSO5AEMVJF66Q9ASUAAJG',\n",
       "   'x-amz-crc32': '2745614147'},\n",
       "  'RetryAttempts': 0}}"
      ]
     },
     "execution_count": 13,
     "metadata": {},
     "output_type": "execute_result"
    }
   ],
   "source": [
    "# inserting the entry into the table\n",
    "table.put_item(Item=job_details)"
   ]
  },
  {
   "cell_type": "code",
   "execution_count": 14,
   "metadata": {},
   "outputs": [
    {
     "data": {
      "text/plain": [
       "{'Item': {'job_description': 'Ingest ghactivity data to s3',\n",
       "  'is_active': 'Y',\n",
       "  'job_id': 'ghactivity_ingest',\n",
       "  'baseline_days': Decimal('3'),\n",
       "  'job_run_bookmark_details': {'last_run_file_name': '2022-11-14-0.json.gz'}},\n",
       " 'ResponseMetadata': {'RequestId': 'FLHDIR64MUNNRR1UUT6P4DD8N7VV4KQNSO5AEMVJF66Q9ASUAAJG',\n",
       "  'HTTPStatusCode': 200,\n",
       "  'HTTPHeaders': {'server': 'Server',\n",
       "   'date': 'Thu, 17 Nov 2022 05:53:16 GMT',\n",
       "   'content-type': 'application/x-amz-json-1.0',\n",
       "   'content-length': '233',\n",
       "   'connection': 'keep-alive',\n",
       "   'x-amzn-requestid': 'FLHDIR64MUNNRR1UUT6P4DD8N7VV4KQNSO5AEMVJF66Q9ASUAAJG',\n",
       "   'x-amz-crc32': '2271273004'},\n",
       "  'RetryAttempts': 0}}"
      ]
     },
     "execution_count": 14,
     "metadata": {},
     "output_type": "execute_result"
    }
   ],
   "source": [
    "# check if the entry has been updated\n",
    "table.get_item(Key={'job_id': 'ghactivity_ingest'})"
   ]
  },
  {
   "cell_type": "code",
   "execution_count": 15,
   "metadata": {},
   "outputs": [],
   "source": [
    "# extracting particular entries from the table\n",
    "job_run_bookmark_details = table. \\\n",
    "    get_item(Key={'job_id': 'ghactivity_ingest'})['Item']['job_run_bookmark_details']"
   ]
  },
  {
   "cell_type": "code",
   "execution_count": 16,
   "metadata": {},
   "outputs": [
    {
     "data": {
      "text/plain": [
       "{'last_run_file_name': '2022-11-14-0.json.gz'}"
      ]
     },
     "execution_count": 16,
     "metadata": {},
     "output_type": "execute_result"
    }
   ],
   "source": [
    "job_run_bookmark_details"
   ]
  },
  {
   "cell_type": "code",
   "execution_count": 17,
   "metadata": {},
   "outputs": [],
   "source": [
    "dt_part = job_run_bookmark_details['last_run_file_name'].split('.')[0]"
   ]
  },
  {
   "cell_type": "code",
   "execution_count": 18,
   "metadata": {},
   "outputs": [
    {
     "data": {
      "text/plain": [
       "'2022-11-14-0'"
      ]
     },
     "execution_count": 18,
     "metadata": {},
     "output_type": "execute_result"
    }
   ],
   "source": [
    "dt_part"
   ]
  },
  {
   "cell_type": "markdown",
   "metadata": {},
   "source": [
    "**creating next file with one hour increment**"
   ]
  },
  {
   "cell_type": "code",
   "execution_count": 19,
   "metadata": {},
   "outputs": [],
   "source": [
    "next_file = f\"{dt.strftime(dt.strptime(dt_part, '%Y-%m-%d-%H') + td(hours=1), '%Y-%m-%d-%-H')}.json.gz\""
   ]
  },
  {
   "cell_type": "code",
   "execution_count": 20,
   "metadata": {},
   "outputs": [
    {
     "data": {
      "text/plain": [
       "'2022-11-14-1.json.gz'"
      ]
     },
     "execution_count": 20,
     "metadata": {},
     "output_type": "execute_result"
    }
   ],
   "source": [
    "next_file"
   ]
  },
  {
   "cell_type": "code",
   "execution_count": 21,
   "metadata": {},
   "outputs": [],
   "source": [
    "import requests"
   ]
  },
  {
   "cell_type": "code",
   "execution_count": 22,
   "metadata": {},
   "outputs": [],
   "source": [
    "res = requests.get(f'https://data.gharchive.org/{next_file}')"
   ]
  },
  {
   "cell_type": "code",
   "execution_count": 23,
   "metadata": {},
   "outputs": [],
   "source": [
    "file = open(f'data/{next_file}', 'wb')"
   ]
  },
  {
   "cell_type": "code",
   "execution_count": 24,
   "metadata": {},
   "outputs": [
    {
     "data": {
      "text/plain": [
       "85539087"
      ]
     },
     "execution_count": 24,
     "metadata": {},
     "output_type": "execute_result"
    }
   ],
   "source": [
    "file.write(res.content)"
   ]
  },
  {
   "cell_type": "code",
   "execution_count": 25,
   "metadata": {},
   "outputs": [],
   "source": [
    "file.close()"
   ]
  },
  {
   "cell_type": "code",
   "execution_count": 26,
   "metadata": {},
   "outputs": [
    {
     "name": "stdout",
     "output_type": "stream",
     "text": [
      "total 163160\n",
      "-rw-r--r-- 1 edward edward 33989636 Nov 14 17:17 2022-06-05-0.json.gz\n",
      "-rw-r--r-- 1 edward edward 47534740 Nov 16 17:34 2022-11-13-0.json.gz\n",
      "-rw-r--r-- 1 edward edward 85539087 Nov 17 13:16 2022-11-14-1.json.gz\n"
     ]
    }
   ],
   "source": [
    "!ls -ltr data/"
   ]
  },
  {
   "cell_type": "code",
   "execution_count": 27,
   "metadata": {},
   "outputs": [],
   "source": [
    "import pandas as pd"
   ]
  },
  {
   "cell_type": "code",
   "execution_count": 28,
   "metadata": {},
   "outputs": [],
   "source": [
    "df = pd.read_json(f'data/{next_file}', lines=True, orient='records')"
   ]
  },
  {
   "cell_type": "code",
   "execution_count": 29,
   "metadata": {},
   "outputs": [
    {
     "data": {
      "text/html": [
       "<div>\n",
       "<style scoped>\n",
       "    .dataframe tbody tr th:only-of-type {\n",
       "        vertical-align: middle;\n",
       "    }\n",
       "\n",
       "    .dataframe tbody tr th {\n",
       "        vertical-align: top;\n",
       "    }\n",
       "\n",
       "    .dataframe thead th {\n",
       "        text-align: right;\n",
       "    }\n",
       "</style>\n",
       "<table border=\"1\" class=\"dataframe\">\n",
       "  <thead>\n",
       "    <tr style=\"text-align: right;\">\n",
       "      <th></th>\n",
       "      <th>id</th>\n",
       "      <th>type</th>\n",
       "      <th>actor</th>\n",
       "      <th>repo</th>\n",
       "      <th>payload</th>\n",
       "      <th>public</th>\n",
       "      <th>created_at</th>\n",
       "      <th>org</th>\n",
       "    </tr>\n",
       "  </thead>\n",
       "  <tbody>\n",
       "    <tr>\n",
       "      <th>0</th>\n",
       "      <td>25209166750</td>\n",
       "      <td>PushEvent</td>\n",
       "      <td>{'id': 41898282, 'login': 'github-actions[bot]...</td>\n",
       "      <td>{'id': 458311390, 'name': 'viniciuscorreialour...</td>\n",
       "      <td>{'push_id': 11649029048, 'size': 1, 'distinct_...</td>\n",
       "      <td>True</td>\n",
       "      <td>2022-11-14 01:00:00+00:00</td>\n",
       "      <td>NaN</td>\n",
       "    </tr>\n",
       "    <tr>\n",
       "      <th>1</th>\n",
       "      <td>25209166753</td>\n",
       "      <td>PushEvent</td>\n",
       "      <td>{'id': 106945582, 'login': 'katoushiki', 'disp...</td>\n",
       "      <td>{'id': 563682326, 'name': 'yusaku-uema/GFF2-4B...</td>\n",
       "      <td>{'push_id': 11649029040, 'size': 7, 'distinct_...</td>\n",
       "      <td>True</td>\n",
       "      <td>2022-11-14 01:00:00+00:00</td>\n",
       "      <td>NaN</td>\n",
       "    </tr>\n",
       "    <tr>\n",
       "      <th>2</th>\n",
       "      <td>25209166756</td>\n",
       "      <td>WatchEvent</td>\n",
       "      <td>{'id': 11931030, 'login': 'tmartin8080', 'disp...</td>\n",
       "      <td>{'id': 14453572, 'name': 'ericmj/decimal', 'ur...</td>\n",
       "      <td>{'action': 'started'}</td>\n",
       "      <td>True</td>\n",
       "      <td>2022-11-14 01:00:00+00:00</td>\n",
       "      <td>NaN</td>\n",
       "    </tr>\n",
       "    <tr>\n",
       "      <th>3</th>\n",
       "      <td>25209166757</td>\n",
       "      <td>PushEvent</td>\n",
       "      <td>{'id': 41898282, 'login': 'github-actions[bot]...</td>\n",
       "      <td>{'id': 488716101, 'name': 'michelly-alves/mich...</td>\n",
       "      <td>{'push_id': 11649029052, 'size': 1, 'distinct_...</td>\n",
       "      <td>True</td>\n",
       "      <td>2022-11-14 01:00:00+00:00</td>\n",
       "      <td>NaN</td>\n",
       "    </tr>\n",
       "    <tr>\n",
       "      <th>4</th>\n",
       "      <td>25209166759</td>\n",
       "      <td>CreateEvent</td>\n",
       "      <td>{'id': 14252925, 'login': 'maheshpeddigithub',...</td>\n",
       "      <td>{'id': 565628071, 'name': 'maheshpeddigithub/n...</td>\n",
       "      <td>{'ref': 'main', 'ref_type': 'branch', 'master_...</td>\n",
       "      <td>True</td>\n",
       "      <td>2022-11-14 01:00:00+00:00</td>\n",
       "      <td>NaN</td>\n",
       "    </tr>\n",
       "    <tr>\n",
       "      <th>...</th>\n",
       "      <td>...</td>\n",
       "      <td>...</td>\n",
       "      <td>...</td>\n",
       "      <td>...</td>\n",
       "      <td>...</td>\n",
       "      <td>...</td>\n",
       "      <td>...</td>\n",
       "      <td>...</td>\n",
       "    </tr>\n",
       "    <tr>\n",
       "      <th>149899</th>\n",
       "      <td>25209748711</td>\n",
       "      <td>PushEvent</td>\n",
       "      <td>{'id': 95552879, 'login': 'gabflag', 'display_...</td>\n",
       "      <td>{'id': 465407496, 'name': 'gabflag/projects_in...</td>\n",
       "      <td>{'push_id': 11649348560, 'size': 1, 'distinct_...</td>\n",
       "      <td>True</td>\n",
       "      <td>2022-11-14 01:59:59+00:00</td>\n",
       "      <td>NaN</td>\n",
       "    </tr>\n",
       "    <tr>\n",
       "      <th>149900</th>\n",
       "      <td>25209748713</td>\n",
       "      <td>PushEvent</td>\n",
       "      <td>{'id': 41898282, 'login': 'github-actions[bot]...</td>\n",
       "      <td>{'id': 448735812, 'name': 'Handowsblack/Handow...</td>\n",
       "      <td>{'push_id': 11649348576, 'size': 1, 'distinct_...</td>\n",
       "      <td>True</td>\n",
       "      <td>2022-11-14 01:59:59+00:00</td>\n",
       "      <td>NaN</td>\n",
       "    </tr>\n",
       "    <tr>\n",
       "      <th>149901</th>\n",
       "      <td>25209748723</td>\n",
       "      <td>PushEvent</td>\n",
       "      <td>{'id': 41898282, 'login': 'github-actions[bot]...</td>\n",
       "      <td>{'id': 415468661, 'name': 'joaopedrozand/joaop...</td>\n",
       "      <td>{'push_id': 11649348583, 'size': 1, 'distinct_...</td>\n",
       "      <td>True</td>\n",
       "      <td>2022-11-14 01:59:59+00:00</td>\n",
       "      <td>NaN</td>\n",
       "    </tr>\n",
       "    <tr>\n",
       "      <th>149902</th>\n",
       "      <td>25209748726</td>\n",
       "      <td>PushEvent</td>\n",
       "      <td>{'id': 9512067, 'login': 'simonsmh', 'display_...</td>\n",
       "      <td>{'id': 81063788, 'name': 'simonsmh/openwrt-dis...</td>\n",
       "      <td>{'push_id': 11649348566, 'size': 1, 'distinct_...</td>\n",
       "      <td>True</td>\n",
       "      <td>2022-11-14 01:59:59+00:00</td>\n",
       "      <td>NaN</td>\n",
       "    </tr>\n",
       "    <tr>\n",
       "      <th>149903</th>\n",
       "      <td>25209748729</td>\n",
       "      <td>PushEvent</td>\n",
       "      <td>{'id': 41898282, 'login': 'github-actions[bot]...</td>\n",
       "      <td>{'id': 518054948, 'name': 'shwetank0714/shweta...</td>\n",
       "      <td>{'push_id': 11649348562, 'size': 1, 'distinct_...</td>\n",
       "      <td>True</td>\n",
       "      <td>2022-11-14 01:59:59+00:00</td>\n",
       "      <td>NaN</td>\n",
       "    </tr>\n",
       "  </tbody>\n",
       "</table>\n",
       "<p>149904 rows × 8 columns</p>\n",
       "</div>"
      ],
      "text/plain": [
       "                 id         type  \\\n",
       "0       25209166750    PushEvent   \n",
       "1       25209166753    PushEvent   \n",
       "2       25209166756   WatchEvent   \n",
       "3       25209166757    PushEvent   \n",
       "4       25209166759  CreateEvent   \n",
       "...             ...          ...   \n",
       "149899  25209748711    PushEvent   \n",
       "149900  25209748713    PushEvent   \n",
       "149901  25209748723    PushEvent   \n",
       "149902  25209748726    PushEvent   \n",
       "149903  25209748729    PushEvent   \n",
       "\n",
       "                                                    actor  \\\n",
       "0       {'id': 41898282, 'login': 'github-actions[bot]...   \n",
       "1       {'id': 106945582, 'login': 'katoushiki', 'disp...   \n",
       "2       {'id': 11931030, 'login': 'tmartin8080', 'disp...   \n",
       "3       {'id': 41898282, 'login': 'github-actions[bot]...   \n",
       "4       {'id': 14252925, 'login': 'maheshpeddigithub',...   \n",
       "...                                                   ...   \n",
       "149899  {'id': 95552879, 'login': 'gabflag', 'display_...   \n",
       "149900  {'id': 41898282, 'login': 'github-actions[bot]...   \n",
       "149901  {'id': 41898282, 'login': 'github-actions[bot]...   \n",
       "149902  {'id': 9512067, 'login': 'simonsmh', 'display_...   \n",
       "149903  {'id': 41898282, 'login': 'github-actions[bot]...   \n",
       "\n",
       "                                                     repo  \\\n",
       "0       {'id': 458311390, 'name': 'viniciuscorreialour...   \n",
       "1       {'id': 563682326, 'name': 'yusaku-uema/GFF2-4B...   \n",
       "2       {'id': 14453572, 'name': 'ericmj/decimal', 'ur...   \n",
       "3       {'id': 488716101, 'name': 'michelly-alves/mich...   \n",
       "4       {'id': 565628071, 'name': 'maheshpeddigithub/n...   \n",
       "...                                                   ...   \n",
       "149899  {'id': 465407496, 'name': 'gabflag/projects_in...   \n",
       "149900  {'id': 448735812, 'name': 'Handowsblack/Handow...   \n",
       "149901  {'id': 415468661, 'name': 'joaopedrozand/joaop...   \n",
       "149902  {'id': 81063788, 'name': 'simonsmh/openwrt-dis...   \n",
       "149903  {'id': 518054948, 'name': 'shwetank0714/shweta...   \n",
       "\n",
       "                                                  payload  public  \\\n",
       "0       {'push_id': 11649029048, 'size': 1, 'distinct_...    True   \n",
       "1       {'push_id': 11649029040, 'size': 7, 'distinct_...    True   \n",
       "2                                   {'action': 'started'}    True   \n",
       "3       {'push_id': 11649029052, 'size': 1, 'distinct_...    True   \n",
       "4       {'ref': 'main', 'ref_type': 'branch', 'master_...    True   \n",
       "...                                                   ...     ...   \n",
       "149899  {'push_id': 11649348560, 'size': 1, 'distinct_...    True   \n",
       "149900  {'push_id': 11649348576, 'size': 1, 'distinct_...    True   \n",
       "149901  {'push_id': 11649348583, 'size': 1, 'distinct_...    True   \n",
       "149902  {'push_id': 11649348566, 'size': 1, 'distinct_...    True   \n",
       "149903  {'push_id': 11649348562, 'size': 1, 'distinct_...    True   \n",
       "\n",
       "                      created_at  org  \n",
       "0      2022-11-14 01:00:00+00:00  NaN  \n",
       "1      2022-11-14 01:00:00+00:00  NaN  \n",
       "2      2022-11-14 01:00:00+00:00  NaN  \n",
       "3      2022-11-14 01:00:00+00:00  NaN  \n",
       "4      2022-11-14 01:00:00+00:00  NaN  \n",
       "...                          ...  ...  \n",
       "149899 2022-11-14 01:59:59+00:00  NaN  \n",
       "149900 2022-11-14 01:59:59+00:00  NaN  \n",
       "149901 2022-11-14 01:59:59+00:00  NaN  \n",
       "149902 2022-11-14 01:59:59+00:00  NaN  \n",
       "149903 2022-11-14 01:59:59+00:00  NaN  \n",
       "\n",
       "[149904 rows x 8 columns]"
      ]
     },
     "execution_count": 29,
     "metadata": {},
     "output_type": "execute_result"
    }
   ],
   "source": [
    "df"
   ]
  },
  {
   "cell_type": "code",
   "execution_count": 30,
   "metadata": {},
   "outputs": [
    {
     "data": {
      "text/plain": [
       "Index(['id', 'type', 'actor', 'repo', 'payload', 'public', 'created_at',\n",
       "       'org'],\n",
       "      dtype='object')"
      ]
     },
     "execution_count": 30,
     "metadata": {},
     "output_type": "execute_result"
    }
   ],
   "source": [
    "df.columns"
   ]
  },
  {
   "cell_type": "code",
   "execution_count": 31,
   "metadata": {},
   "outputs": [
    {
     "data": {
      "text/plain": [
       "id                          int64\n",
       "type                       object\n",
       "actor                      object\n",
       "repo                       object\n",
       "payload                    object\n",
       "public                       bool\n",
       "created_at    datetime64[ns, UTC]\n",
       "org                        object\n",
       "dtype: object"
      ]
     },
     "execution_count": 31,
     "metadata": {},
     "output_type": "execute_result"
    }
   ],
   "source": [
    "df.dtypes"
   ]
  },
  {
   "cell_type": "code",
   "execution_count": 32,
   "metadata": {},
   "outputs": [
    {
     "data": {
      "text/plain": [
       "(149904, 8)"
      ]
     },
     "execution_count": 32,
     "metadata": {},
     "output_type": "execute_result"
    }
   ],
   "source": [
    "df.shape"
   ]
  },
  {
   "cell_type": "code",
   "execution_count": null,
   "metadata": {},
   "outputs": [],
   "source": []
  }
 ],
 "metadata": {
  "kernelspec": {
   "display_name": "Python 3.9.12 ('udemy-lambda': venv)",
   "language": "python",
   "name": "python3"
  },
  "language_info": {
   "codemirror_mode": {
    "name": "ipython",
    "version": 3
   },
   "file_extension": ".py",
   "mimetype": "text/x-python",
   "name": "python",
   "nbconvert_exporter": "python",
   "pygments_lexer": "ipython3",
   "version": "3.9.12"
  },
  "orig_nbformat": 4,
  "vscode": {
   "interpreter": {
    "hash": "041cfd6db7c83778a4ca3ba8bf559452d50a9d9ed92ce0fceb982edeba072cb3"
   }
  }
 },
 "nbformat": 4,
 "nbformat_minor": 2
}
