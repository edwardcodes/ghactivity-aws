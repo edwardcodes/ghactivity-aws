{
 "cells": [
  {
   "cell_type": "code",
   "execution_count": 1,
   "metadata": {},
   "outputs": [],
   "source": [
    "import boto3\n",
    "import os"
   ]
  },
  {
   "cell_type": "code",
   "execution_count": 2,
   "metadata": {},
   "outputs": [],
   "source": [
    "os.environ.get('AWS_PROFILE')"
   ]
  },
  {
   "cell_type": "code",
   "execution_count": 3,
   "metadata": {},
   "outputs": [
    {
     "data": {
      "text/plain": [
       "'gh-activity'"
      ]
     },
     "execution_count": 3,
     "metadata": {},
     "output_type": "execute_result"
    }
   ],
   "source": [
    "# setting default profile to gh-activity\n",
    "# same could be done using os.environ.update()\n",
    "os.environ.setdefault('AWS_PROFILE', 'gh-activity')"
   ]
  },
  {
   "cell_type": "code",
   "execution_count": 4,
   "metadata": {},
   "outputs": [
    {
     "data": {
      "text/plain": [
       "'gh-activity'"
      ]
     },
     "execution_count": 4,
     "metadata": {},
     "output_type": "execute_result"
    }
   ],
   "source": [
    "os.environ.get('AWS_PROFILE') # checking default profile"
   ]
  },
  {
   "cell_type": "code",
   "execution_count": 5,
   "metadata": {},
   "outputs": [],
   "source": [
    "s3_client = boto3.client('s3')"
   ]
  },
  {
   "cell_type": "code",
   "execution_count": 6,
   "metadata": {},
   "outputs": [
    {
     "name": "stdout",
     "output_type": "stream",
     "text": [
      "udemy.lambda\n"
     ]
    }
   ],
   "source": [
    "for bucket in s3_client.list_buckets()['Buckets']:\n",
    "    print(bucket['Name'])"
   ]
  },
  {
   "cell_type": "code",
   "execution_count": 7,
   "metadata": {},
   "outputs": [],
   "source": [
    "buckets = s3_client.list_buckets()['Buckets']"
   ]
  },
  {
   "cell_type": "code",
   "execution_count": 8,
   "metadata": {},
   "outputs": [
    {
     "data": {
      "text/plain": [
       "1"
      ]
     },
     "execution_count": 8,
     "metadata": {},
     "output_type": "execute_result"
    }
   ],
   "source": [
    "len(buckets)"
   ]
  },
  {
   "cell_type": "markdown",
   "metadata": {},
   "source": [
    "**Creating new bucket using boto3**"
   ]
  },
  {
   "cell_type": "code",
   "execution_count": 10,
   "metadata": {},
   "outputs": [],
   "source": [
    "bucket_prefix = input('Enter 2 character unique prefix for your bucket: ')"
   ]
  },
  {
   "cell_type": "code",
   "execution_count": 11,
   "metadata": {},
   "outputs": [
    {
     "data": {
      "text/plain": [
       "'edp'"
      ]
     },
     "execution_count": 11,
     "metadata": {},
     "output_type": "execute_result"
    }
   ],
   "source": [
    "bucket_prefix"
   ]
  },
  {
   "cell_type": "code",
   "execution_count": null,
   "metadata": {},
   "outputs": [],
   "source": [
    "#s3_client.create_bucket?"
   ]
  },
  {
   "cell_type": "code",
   "execution_count": 13,
   "metadata": {},
   "outputs": [
    {
     "data": {
      "text/plain": [
       "{'ResponseMetadata': {'RequestId': 'EB2GZQSVVVCQ402R',\n",
       "  'HostId': 'MqX6h3sJh0TkBJ303g3LUUrQDDBcRivi3XmAAX0cwtGW35EivWkMhMYrtiDJ6TvfsLBPHyzGti4=',\n",
       "  'HTTPStatusCode': 200,\n",
       "  'HTTPHeaders': {'x-amz-id-2': 'MqX6h3sJh0TkBJ303g3LUUrQDDBcRivi3XmAAX0cwtGW35EivWkMhMYrtiDJ6TvfsLBPHyzGti4=',\n",
       "   'x-amz-request-id': 'EB2GZQSVVVCQ402R',\n",
       "   'date': 'Tue, 15 Nov 2022 07:46:19 GMT',\n",
       "   'location': 'http://edpghactivity.s3.amazonaws.com/',\n",
       "   'server': 'AmazonS3',\n",
       "   'content-length': '0'},\n",
       "  'RetryAttempts': 0},\n",
       " 'Location': 'http://edpghactivity.s3.amazonaws.com/'}"
      ]
     },
     "execution_count": 13,
     "metadata": {},
     "output_type": "execute_result"
    }
   ],
   "source": [
    "s3_client.create_bucket(Bucket=f'{bucket_prefix}ghactivity',\n",
    "CreateBucketConfiguration={'LocationConstraint': 'ap-south-1'})\n",
    "\n",
    "# Except us-east-1, all other regions must mention location constraint"
   ]
  },
  {
   "cell_type": "code",
   "execution_count": 14,
   "metadata": {},
   "outputs": [
    {
     "name": "stdout",
     "output_type": "stream",
     "text": [
      "edpghactivity\n",
      "udemy.lambda\n"
     ]
    }
   ],
   "source": [
    "for bucket in s3_client.list_buckets()['Buckets']:\n",
    "    print(bucket['Name'])"
   ]
  },
  {
   "cell_type": "markdown",
   "metadata": {},
   "source": [
    "**Creating bucket using AWS CLI**"
   ]
  },
  {
   "cell_type": "code",
   "execution_count": 15,
   "metadata": {},
   "outputs": [
    {
     "name": "stdout",
     "output_type": "stream",
     "text": [
      "make_bucket: ed-gh-activity\n"
     ]
    }
   ],
   "source": [
    "# alternatively we can create a bucket without boto in terminal mode\n",
    "!aws s3 mb s3://ed-gh-activity"
   ]
  },
  {
   "cell_type": "code",
   "execution_count": 16,
   "metadata": {},
   "outputs": [
    {
     "name": "stdout",
     "output_type": "stream",
     "text": [
      "ed-gh-activity\n",
      "edpghactivity\n",
      "udemy.lambda\n"
     ]
    }
   ],
   "source": [
    "for bucket in s3_client.list_buckets()['Buckets']:\n",
    "    print(bucket['Name'])"
   ]
  },
  {
   "cell_type": "markdown",
   "metadata": {},
   "source": [
    "**Deleting s3 bucket using boto3**"
   ]
  },
  {
   "cell_type": "code",
   "execution_count": 17,
   "metadata": {},
   "outputs": [
    {
     "data": {
      "text/plain": [
       "{'ResponseMetadata': {'RequestId': 'BW7R5HR4ND7KX7KD',\n",
       "  'HostId': 'wCUdcNs7FNdpWpbPHIgK/tCR63wuyph08bb1PF9+hcMhjMkEIQgvHtC5vCbiGoTPwcsSJ0VcGxg=',\n",
       "  'HTTPStatusCode': 204,\n",
       "  'HTTPHeaders': {'x-amz-id-2': 'wCUdcNs7FNdpWpbPHIgK/tCR63wuyph08bb1PF9+hcMhjMkEIQgvHtC5vCbiGoTPwcsSJ0VcGxg=',\n",
       "   'x-amz-request-id': 'BW7R5HR4ND7KX7KD',\n",
       "   'date': 'Tue, 15 Nov 2022 07:50:42 GMT',\n",
       "   'server': 'AmazonS3'},\n",
       "  'RetryAttempts': 0}}"
      ]
     },
     "execution_count": 17,
     "metadata": {},
     "output_type": "execute_result"
    }
   ],
   "source": [
    "s3_client.delete_bucket(Bucket='edpghactivity')"
   ]
  },
  {
   "cell_type": "code",
   "execution_count": 19,
   "metadata": {},
   "outputs": [
    {
     "data": {
      "text/plain": [
       "{'ResponseMetadata': {'RequestId': 'MN4ASAG94RMT3RZX',\n",
       "  'HostId': 'CM5gPU0JovfIGeTX+pIlYIIrKb5ZxBnfS5VSapLolOM+3iFsYU3ubD83yzBa9sbHiGGdGXTqFUY=',\n",
       "  'HTTPStatusCode': 204,\n",
       "  'HTTPHeaders': {'x-amz-id-2': 'CM5gPU0JovfIGeTX+pIlYIIrKb5ZxBnfS5VSapLolOM+3iFsYU3ubD83yzBa9sbHiGGdGXTqFUY=',\n",
       "   'x-amz-request-id': 'MN4ASAG94RMT3RZX',\n",
       "   'date': 'Tue, 15 Nov 2022 07:51:51 GMT',\n",
       "   'server': 'AmazonS3'},\n",
       "  'RetryAttempts': 0}}"
      ]
     },
     "execution_count": 19,
     "metadata": {},
     "output_type": "execute_result"
    }
   ],
   "source": [
    "s3_client.delete_bucket(Bucket='ed-gh-activity')"
   ]
  },
  {
   "cell_type": "code",
   "execution_count": 20,
   "metadata": {},
   "outputs": [
    {
     "name": "stdout",
     "output_type": "stream",
     "text": [
      "udemy.lambda\n"
     ]
    }
   ],
   "source": [
    "for bucket in s3_client.list_buckets()['Buckets']:\n",
    "    print(bucket['Name'])"
   ]
  },
  {
   "cell_type": "code",
   "execution_count": null,
   "metadata": {},
   "outputs": [],
   "source": []
  }
 ],
 "metadata": {
  "kernelspec": {
   "display_name": "Python 3.9.12 ('udemy-lambda': venv)",
   "language": "python",
   "name": "python3"
  },
  "language_info": {
   "codemirror_mode": {
    "name": "ipython",
    "version": 3
   },
   "file_extension": ".py",
   "mimetype": "text/x-python",
   "name": "python",
   "nbconvert_exporter": "python",
   "pygments_lexer": "ipython3",
   "version": "3.9.12"
  },
  "orig_nbformat": 4,
  "vscode": {
   "interpreter": {
    "hash": "041cfd6db7c83778a4ca3ba8bf559452d50a9d9ed92ce0fceb982edeba072cb3"
   }
  }
 },
 "nbformat": 4,
 "nbformat_minor": 2
}
