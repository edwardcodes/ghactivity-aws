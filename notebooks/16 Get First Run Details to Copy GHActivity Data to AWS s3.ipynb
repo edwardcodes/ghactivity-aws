{
 "cells": [
  {
   "cell_type": "code",
   "execution_count": 1,
   "metadata": {},
   "outputs": [],
   "source": [
    "import boto3"
   ]
  },
  {
   "cell_type": "code",
   "execution_count": 2,
   "metadata": {},
   "outputs": [
    {
     "data": {
      "text/plain": [
       "'gh-activity'"
      ]
     },
     "execution_count": 2,
     "metadata": {},
     "output_type": "execute_result"
    }
   ],
   "source": [
    "import os\n",
    "os.environ.setdefault('AWS_PROFILE', 'gh-activity')"
   ]
  },
  {
   "cell_type": "code",
   "execution_count": 3,
   "metadata": {},
   "outputs": [],
   "source": [
    "dynamodb = boto3.resource('dynamodb')\n",
    "job_details_table = dynamodb.Table('jobs')"
   ]
  },
  {
   "cell_type": "code",
   "execution_count": 4,
   "metadata": {},
   "outputs": [
    {
     "data": {
      "text/plain": [
       "{'ResponseMetadata': {'RequestId': '26GJ08DU5J156RGGOKGO3KRN7VVV4KQNSO5AEMVJF66Q9ASUAAJG',\n",
       "  'HTTPStatusCode': 200,\n",
       "  'HTTPHeaders': {'server': 'Server',\n",
       "   'date': 'Wed, 16 Nov 2022 11:38:44 GMT',\n",
       "   'content-type': 'application/x-amz-json-1.0',\n",
       "   'content-length': '2',\n",
       "   'connection': 'keep-alive',\n",
       "   'x-amzn-requestid': '26GJ08DU5J156RGGOKGO3KRN7VVV4KQNSO5AEMVJF66Q9ASUAAJG',\n",
       "   'x-amz-crc32': '2745614147'},\n",
       "  'RetryAttempts': 0}}"
      ]
     },
     "execution_count": 4,
     "metadata": {},
     "output_type": "execute_result"
    }
   ],
   "source": [
    "job_details_table.delete_item(Key={'job_id': 'ghactivity_ingest'}) "
   ]
  },
  {
   "cell_type": "code",
   "execution_count": 5,
   "metadata": {},
   "outputs": [],
   "source": [
    "job_details = {\n",
    "    'job_id': 'ghactivity_ingest',\n",
    "    'job_description': 'Ingest ghactivity data to s3',\n",
    "    'is_active': 'Y',\n",
    "    'baseline_days': 3\n",
    "}"
   ]
  },
  {
   "cell_type": "code",
   "execution_count": 6,
   "metadata": {},
   "outputs": [
    {
     "data": {
      "text/plain": [
       "{'ResponseMetadata': {'RequestId': 'E1N80L70E3N4PCJ38A5M641CMVVV4KQNSO5AEMVJF66Q9ASUAAJG',\n",
       "  'HTTPStatusCode': 200,\n",
       "  'HTTPHeaders': {'server': 'Server',\n",
       "   'date': 'Wed, 16 Nov 2022 11:39:21 GMT',\n",
       "   'content-type': 'application/x-amz-json-1.0',\n",
       "   'content-length': '2',\n",
       "   'connection': 'keep-alive',\n",
       "   'x-amzn-requestid': 'E1N80L70E3N4PCJ38A5M641CMVVV4KQNSO5AEMVJF66Q9ASUAAJG',\n",
       "   'x-amz-crc32': '2745614147'},\n",
       "  'RetryAttempts': 0}}"
      ]
     },
     "execution_count": 6,
     "metadata": {},
     "output_type": "execute_result"
    }
   ],
   "source": [
    "job_details_table.put_item(Item=job_details)"
   ]
  },
  {
   "cell_type": "code",
   "execution_count": 7,
   "metadata": {},
   "outputs": [],
   "source": [
    "def get_job_details(job_name):\n",
    "    dynamodb = boto3.resource('dynamodb')\n",
    "    table = dynamodb.Table('jobs')\n",
    "    job_details = table.get_item(Key={'job_id': job_name})['Item']\n",
    "    return job_details"
   ]
  },
  {
   "cell_type": "code",
   "execution_count": 8,
   "metadata": {},
   "outputs": [
    {
     "data": {
      "text/plain": [
       "{'job_description': 'Ingest ghactivity data to s3',\n",
       " 'is_active': 'Y',\n",
       " 'job_id': 'ghactivity_ingest',\n",
       " 'baseline_days': Decimal('3')}"
      ]
     },
     "execution_count": 8,
     "metadata": {},
     "output_type": "execute_result"
    }
   ],
   "source": [
    "job_details = get_job_details('ghactivity_ingest')\n",
    "job_details"
   ]
  },
  {
   "cell_type": "code",
   "execution_count": 9,
   "metadata": {},
   "outputs": [],
   "source": [
    "from datetime import datetime as dt\n",
    "from datetime import timedelta as td"
   ]
  },
  {
   "cell_type": "code",
   "execution_count": 10,
   "metadata": {},
   "outputs": [
    {
     "data": {
      "text/plain": [
       "datetime.datetime(2022, 11, 16, 17, 33, 30, 780397)"
      ]
     },
     "execution_count": 10,
     "metadata": {},
     "output_type": "execute_result"
    }
   ],
   "source": [
    "dt.now()"
   ]
  },
  {
   "cell_type": "code",
   "execution_count": 11,
   "metadata": {},
   "outputs": [
    {
     "data": {
      "text/plain": [
       "datetime.date(2022, 11, 16)"
      ]
     },
     "execution_count": 11,
     "metadata": {},
     "output_type": "execute_result"
    }
   ],
   "source": [
    "dt.now().date()"
   ]
  },
  {
   "cell_type": "code",
   "execution_count": 12,
   "metadata": {},
   "outputs": [
    {
     "data": {
      "text/plain": [
       "datetime.date(2022, 11, 13)"
      ]
     },
     "execution_count": 12,
     "metadata": {},
     "output_type": "execute_result"
    }
   ],
   "source": [
    "dt.now().date() - td(days=3)"
   ]
  },
  {
   "cell_type": "code",
   "execution_count": 13,
   "metadata": {},
   "outputs": [
    {
     "data": {
      "text/plain": [
       "'2022-11-13-0.json.gz'"
      ]
     },
     "execution_count": 13,
     "metadata": {},
     "output_type": "execute_result"
    }
   ],
   "source": [
    "f'{dt.strftime(dt.now().date() - td(days=3), \"%Y-%m-%d\")}-0.json.gz'"
   ]
  },
  {
   "cell_type": "code",
   "execution_count": 14,
   "metadata": {},
   "outputs": [],
   "source": [
    "next_file = f'{dt.strftime(dt.now().date() - td(days=3), \"%Y-%m-%d\")}-0.json.gz'"
   ]
  },
  {
   "cell_type": "code",
   "execution_count": 15,
   "metadata": {},
   "outputs": [
    {
     "data": {
      "text/plain": [
       "'2022-11-13-0.json.gz'"
      ]
     },
     "execution_count": 15,
     "metadata": {},
     "output_type": "execute_result"
    }
   ],
   "source": [
    "next_file"
   ]
  },
  {
   "cell_type": "code",
   "execution_count": 16,
   "metadata": {},
   "outputs": [],
   "source": [
    "import requests"
   ]
  },
  {
   "cell_type": "code",
   "execution_count": 17,
   "metadata": {},
   "outputs": [],
   "source": [
    "res = requests.get(f'https://data.gharchive.org/{next_file}')"
   ]
  },
  {
   "cell_type": "code",
   "execution_count": 18,
   "metadata": {},
   "outputs": [],
   "source": [
    "file = open(f'data/{next_file}', 'wb')"
   ]
  },
  {
   "cell_type": "code",
   "execution_count": 19,
   "metadata": {},
   "outputs": [
    {
     "data": {
      "text/plain": [
       "47534740"
      ]
     },
     "execution_count": 19,
     "metadata": {},
     "output_type": "execute_result"
    }
   ],
   "source": [
    "file.write(res.content)"
   ]
  },
  {
   "cell_type": "code",
   "execution_count": 20,
   "metadata": {},
   "outputs": [],
   "source": [
    "file.close()"
   ]
  },
  {
   "cell_type": "code",
   "execution_count": 21,
   "metadata": {},
   "outputs": [
    {
     "name": "stdout",
     "output_type": "stream",
     "text": [
      "total 79620\n",
      "-rw-r--r-- 1 edward edward 33989636 Nov 14 17:17 2022-06-05-0.json.gz\n",
      "-rw-r--r-- 1 edward edward 47534740 Nov 16 17:34 2022-11-13-0.json.gz\n"
     ]
    }
   ],
   "source": [
    "!ls -ltr data/"
   ]
  },
  {
   "cell_type": "code",
   "execution_count": 22,
   "metadata": {},
   "outputs": [],
   "source": [
    "import pandas as pd"
   ]
  },
  {
   "cell_type": "code",
   "execution_count": 23,
   "metadata": {},
   "outputs": [],
   "source": [
    "df = pd.read_json(\n",
    "    f'data/{next_file}', \n",
    "    lines=True, \n",
    "    orient='records'\n",
    ")"
   ]
  },
  {
   "cell_type": "code",
   "execution_count": 24,
   "metadata": {},
   "outputs": [
    {
     "data": {
      "text/html": [
       "<div>\n",
       "<style scoped>\n",
       "    .dataframe tbody tr th:only-of-type {\n",
       "        vertical-align: middle;\n",
       "    }\n",
       "\n",
       "    .dataframe tbody tr th {\n",
       "        vertical-align: top;\n",
       "    }\n",
       "\n",
       "    .dataframe thead th {\n",
       "        text-align: right;\n",
       "    }\n",
       "</style>\n",
       "<table border=\"1\" class=\"dataframe\">\n",
       "  <thead>\n",
       "    <tr style=\"text-align: right;\">\n",
       "      <th></th>\n",
       "      <th>id</th>\n",
       "      <th>type</th>\n",
       "      <th>actor</th>\n",
       "      <th>repo</th>\n",
       "      <th>payload</th>\n",
       "      <th>public</th>\n",
       "      <th>created_at</th>\n",
       "      <th>org</th>\n",
       "    </tr>\n",
       "  </thead>\n",
       "  <tbody>\n",
       "    <tr>\n",
       "      <th>0</th>\n",
       "      <td>25199534176</td>\n",
       "      <td>PushEvent</td>\n",
       "      <td>{'id': 85200428, 'login': 'nicofcabrera', 'dis...</td>\n",
       "      <td>{'id': 546313849, 'name': 'nicofcabrera/app_cl...</td>\n",
       "      <td>{'push_id': 11642771795, 'size': 1, 'distinct_...</td>\n",
       "      <td>True</td>\n",
       "      <td>2022-11-13 00:00:00+00:00</td>\n",
       "      <td>NaN</td>\n",
       "    </tr>\n",
       "    <tr>\n",
       "      <th>1</th>\n",
       "      <td>25199534178</td>\n",
       "      <td>PushEvent</td>\n",
       "      <td>{'id': 116523511, 'login': 'Hazzard1912', 'dis...</td>\n",
       "      <td>{'id': 559373661, 'name': 'Hazzard1912/minipro...</td>\n",
       "      <td>{'push_id': 11642771790, 'size': 1, 'distinct_...</td>\n",
       "      <td>True</td>\n",
       "      <td>2022-11-13 00:00:00+00:00</td>\n",
       "      <td>NaN</td>\n",
       "    </tr>\n",
       "    <tr>\n",
       "      <th>2</th>\n",
       "      <td>25199534180</td>\n",
       "      <td>PushEvent</td>\n",
       "      <td>{'id': 2299951, 'login': 'pietroalbini', 'disp...</td>\n",
       "      <td>{'id': 26193547, 'name': 'rust-lang/crates.io-...</td>\n",
       "      <td>{'push_id': 11642771796, 'size': 1, 'distinct_...</td>\n",
       "      <td>True</td>\n",
       "      <td>2022-11-13 00:00:00+00:00</td>\n",
       "      <td>{'id': 5430905, 'login': 'rust-lang', 'gravata...</td>\n",
       "    </tr>\n",
       "    <tr>\n",
       "      <th>3</th>\n",
       "      <td>25199534184</td>\n",
       "      <td>PushEvent</td>\n",
       "      <td>{'id': 56834210, 'login': 'DaemonSharps', 'dis...</td>\n",
       "      <td>{'id': 565182626, 'name': 'DaemonSharps/CI-CD'...</td>\n",
       "      <td>{'push_id': 11642771802, 'size': 1, 'distinct_...</td>\n",
       "      <td>True</td>\n",
       "      <td>2022-11-13 00:00:00+00:00</td>\n",
       "      <td>NaN</td>\n",
       "    </tr>\n",
       "    <tr>\n",
       "      <th>4</th>\n",
       "      <td>25199534186</td>\n",
       "      <td>PullRequestEvent</td>\n",
       "      <td>{'id': 49699333, 'login': 'dependabot[bot]', '...</td>\n",
       "      <td>{'id': 233656732, 'name': 'crlDB/25JaarHuwelij...</td>\n",
       "      <td>{'action': 'opened', 'number': 20, 'pull_reque...</td>\n",
       "      <td>True</td>\n",
       "      <td>2022-11-13 00:00:00+00:00</td>\n",
       "      <td>NaN</td>\n",
       "    </tr>\n",
       "    <tr>\n",
       "      <th>...</th>\n",
       "      <td>...</td>\n",
       "      <td>...</td>\n",
       "      <td>...</td>\n",
       "      <td>...</td>\n",
       "      <td>...</td>\n",
       "      <td>...</td>\n",
       "      <td>...</td>\n",
       "      <td>...</td>\n",
       "    </tr>\n",
       "    <tr>\n",
       "      <th>110385</th>\n",
       "      <td>25199847442</td>\n",
       "      <td>PushEvent</td>\n",
       "      <td>{'id': 41898282, 'login': 'github-actions[bot]...</td>\n",
       "      <td>{'id': 511721826, 'name': 'detain/scoop-emulat...</td>\n",
       "      <td>{'push_id': 11642985749, 'size': 5, 'distinct_...</td>\n",
       "      <td>True</td>\n",
       "      <td>2022-11-13 00:59:59+00:00</td>\n",
       "      <td>NaN</td>\n",
       "    </tr>\n",
       "    <tr>\n",
       "      <th>110386</th>\n",
       "      <td>25199847444</td>\n",
       "      <td>PushEvent</td>\n",
       "      <td>{'id': 41898282, 'login': 'github-actions[bot]...</td>\n",
       "      <td>{'id': 372127812, 'name': 'minitu/starter-acad...</td>\n",
       "      <td>{'push_id': 11642985744, 'size': 1, 'distinct_...</td>\n",
       "      <td>True</td>\n",
       "      <td>2022-11-13 00:59:59+00:00</td>\n",
       "      <td>NaN</td>\n",
       "    </tr>\n",
       "    <tr>\n",
       "      <th>110387</th>\n",
       "      <td>25199847448</td>\n",
       "      <td>PushEvent</td>\n",
       "      <td>{'id': 58404352, 'login': 'rmcenlly', 'display...</td>\n",
       "      <td>{'id': 559437057, 'name': 'rmcenlly/Jamtacular...</td>\n",
       "      <td>{'push_id': 11642985753, 'size': 1, 'distinct_...</td>\n",
       "      <td>True</td>\n",
       "      <td>2022-11-13 00:59:59+00:00</td>\n",
       "      <td>NaN</td>\n",
       "    </tr>\n",
       "    <tr>\n",
       "      <th>110388</th>\n",
       "      <td>25199847449</td>\n",
       "      <td>PullRequestEvent</td>\n",
       "      <td>{'id': 106833, 'login': 'mugijiru', 'display_l...</td>\n",
       "      <td>{'id': 182490806, 'name': 'mugijiru/.emacs.d',...</td>\n",
       "      <td>{'action': 'opened', 'number': 1323, 'pull_req...</td>\n",
       "      <td>True</td>\n",
       "      <td>2022-11-13 00:59:59+00:00</td>\n",
       "      <td>NaN</td>\n",
       "    </tr>\n",
       "    <tr>\n",
       "      <th>110389</th>\n",
       "      <td>25199847451</td>\n",
       "      <td>IssueCommentEvent</td>\n",
       "      <td>{'id': 41898282, 'login': 'github-actions[bot]...</td>\n",
       "      <td>{'id': 237484338, 'name': 'dotnetdevbr/vagas',...</td>\n",
       "      <td>{'action': 'created', 'issue': {'url': 'https:...</td>\n",
       "      <td>True</td>\n",
       "      <td>2022-11-13 00:59:59+00:00</td>\n",
       "      <td>{'id': 60519084, 'login': 'dotnetdevbr', 'grav...</td>\n",
       "    </tr>\n",
       "  </tbody>\n",
       "</table>\n",
       "<p>110390 rows × 8 columns</p>\n",
       "</div>"
      ],
      "text/plain": [
       "                 id               type  \\\n",
       "0       25199534176          PushEvent   \n",
       "1       25199534178          PushEvent   \n",
       "2       25199534180          PushEvent   \n",
       "3       25199534184          PushEvent   \n",
       "4       25199534186   PullRequestEvent   \n",
       "...             ...                ...   \n",
       "110385  25199847442          PushEvent   \n",
       "110386  25199847444          PushEvent   \n",
       "110387  25199847448          PushEvent   \n",
       "110388  25199847449   PullRequestEvent   \n",
       "110389  25199847451  IssueCommentEvent   \n",
       "\n",
       "                                                    actor  \\\n",
       "0       {'id': 85200428, 'login': 'nicofcabrera', 'dis...   \n",
       "1       {'id': 116523511, 'login': 'Hazzard1912', 'dis...   \n",
       "2       {'id': 2299951, 'login': 'pietroalbini', 'disp...   \n",
       "3       {'id': 56834210, 'login': 'DaemonSharps', 'dis...   \n",
       "4       {'id': 49699333, 'login': 'dependabot[bot]', '...   \n",
       "...                                                   ...   \n",
       "110385  {'id': 41898282, 'login': 'github-actions[bot]...   \n",
       "110386  {'id': 41898282, 'login': 'github-actions[bot]...   \n",
       "110387  {'id': 58404352, 'login': 'rmcenlly', 'display...   \n",
       "110388  {'id': 106833, 'login': 'mugijiru', 'display_l...   \n",
       "110389  {'id': 41898282, 'login': 'github-actions[bot]...   \n",
       "\n",
       "                                                     repo  \\\n",
       "0       {'id': 546313849, 'name': 'nicofcabrera/app_cl...   \n",
       "1       {'id': 559373661, 'name': 'Hazzard1912/minipro...   \n",
       "2       {'id': 26193547, 'name': 'rust-lang/crates.io-...   \n",
       "3       {'id': 565182626, 'name': 'DaemonSharps/CI-CD'...   \n",
       "4       {'id': 233656732, 'name': 'crlDB/25JaarHuwelij...   \n",
       "...                                                   ...   \n",
       "110385  {'id': 511721826, 'name': 'detain/scoop-emulat...   \n",
       "110386  {'id': 372127812, 'name': 'minitu/starter-acad...   \n",
       "110387  {'id': 559437057, 'name': 'rmcenlly/Jamtacular...   \n",
       "110388  {'id': 182490806, 'name': 'mugijiru/.emacs.d',...   \n",
       "110389  {'id': 237484338, 'name': 'dotnetdevbr/vagas',...   \n",
       "\n",
       "                                                  payload  public  \\\n",
       "0       {'push_id': 11642771795, 'size': 1, 'distinct_...    True   \n",
       "1       {'push_id': 11642771790, 'size': 1, 'distinct_...    True   \n",
       "2       {'push_id': 11642771796, 'size': 1, 'distinct_...    True   \n",
       "3       {'push_id': 11642771802, 'size': 1, 'distinct_...    True   \n",
       "4       {'action': 'opened', 'number': 20, 'pull_reque...    True   \n",
       "...                                                   ...     ...   \n",
       "110385  {'push_id': 11642985749, 'size': 5, 'distinct_...    True   \n",
       "110386  {'push_id': 11642985744, 'size': 1, 'distinct_...    True   \n",
       "110387  {'push_id': 11642985753, 'size': 1, 'distinct_...    True   \n",
       "110388  {'action': 'opened', 'number': 1323, 'pull_req...    True   \n",
       "110389  {'action': 'created', 'issue': {'url': 'https:...    True   \n",
       "\n",
       "                      created_at  \\\n",
       "0      2022-11-13 00:00:00+00:00   \n",
       "1      2022-11-13 00:00:00+00:00   \n",
       "2      2022-11-13 00:00:00+00:00   \n",
       "3      2022-11-13 00:00:00+00:00   \n",
       "4      2022-11-13 00:00:00+00:00   \n",
       "...                          ...   \n",
       "110385 2022-11-13 00:59:59+00:00   \n",
       "110386 2022-11-13 00:59:59+00:00   \n",
       "110387 2022-11-13 00:59:59+00:00   \n",
       "110388 2022-11-13 00:59:59+00:00   \n",
       "110389 2022-11-13 00:59:59+00:00   \n",
       "\n",
       "                                                      org  \n",
       "0                                                     NaN  \n",
       "1                                                     NaN  \n",
       "2       {'id': 5430905, 'login': 'rust-lang', 'gravata...  \n",
       "3                                                     NaN  \n",
       "4                                                     NaN  \n",
       "...                                                   ...  \n",
       "110385                                                NaN  \n",
       "110386                                                NaN  \n",
       "110387                                                NaN  \n",
       "110388                                                NaN  \n",
       "110389  {'id': 60519084, 'login': 'dotnetdevbr', 'grav...  \n",
       "\n",
       "[110390 rows x 8 columns]"
      ]
     },
     "execution_count": 24,
     "metadata": {},
     "output_type": "execute_result"
    }
   ],
   "source": [
    "df"
   ]
  },
  {
   "cell_type": "code",
   "execution_count": 25,
   "metadata": {},
   "outputs": [
    {
     "data": {
      "text/plain": [
       "id            110390\n",
       "type          110390\n",
       "actor         110390\n",
       "repo          110390\n",
       "payload       110390\n",
       "public        110390\n",
       "created_at    110390\n",
       "org            25325\n",
       "dtype: int64"
      ]
     },
     "execution_count": 25,
     "metadata": {},
     "output_type": "execute_result"
    }
   ],
   "source": [
    "df.count()"
   ]
  },
  {
   "cell_type": "code",
   "execution_count": 26,
   "metadata": {},
   "outputs": [
    {
     "data": {
      "text/plain": [
       "Index(['id', 'type', 'actor', 'repo', 'payload', 'public', 'created_at',\n",
       "       'org'],\n",
       "      dtype='object')"
      ]
     },
     "execution_count": 26,
     "metadata": {},
     "output_type": "execute_result"
    }
   ],
   "source": [
    "df.columns"
   ]
  },
  {
   "cell_type": "code",
   "execution_count": 27,
   "metadata": {},
   "outputs": [
    {
     "data": {
      "text/plain": [
       "id                          int64\n",
       "type                       object\n",
       "actor                      object\n",
       "repo                       object\n",
       "payload                    object\n",
       "public                       bool\n",
       "created_at    datetime64[ns, UTC]\n",
       "org                        object\n",
       "dtype: object"
      ]
     },
     "execution_count": 27,
     "metadata": {},
     "output_type": "execute_result"
    }
   ],
   "source": [
    "df.dtypes"
   ]
  },
  {
   "cell_type": "code",
   "execution_count": null,
   "metadata": {},
   "outputs": [],
   "source": []
  }
 ],
 "metadata": {
  "kernelspec": {
   "display_name": "Python 3.9.12 ('udemy-lambda': venv)",
   "language": "python",
   "name": "python3"
  },
  "language_info": {
   "codemirror_mode": {
    "name": "ipython",
    "version": 3
   },
   "file_extension": ".py",
   "mimetype": "text/x-python",
   "name": "python",
   "nbconvert_exporter": "python",
   "pygments_lexer": "ipython3",
   "version": "3.9.12"
  },
  "orig_nbformat": 4,
  "vscode": {
   "interpreter": {
    "hash": "041cfd6db7c83778a4ca3ba8bf559452d50a9d9ed92ce0fceb982edeba072cb3"
   }
  }
 },
 "nbformat": 4,
 "nbformat_minor": 2
}
